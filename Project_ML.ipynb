{
 "cells": [
  {
   "cell_type": "code",
   "execution_count": 179,
   "metadata": {},
   "outputs": [],
   "source": [
    "from pathlib import Path\n",
    "import pandas as pd\n",
    "import numpy as np\n",
    "import openpyxl\n",
    "import matplotlib.pyplot as plt\n",
    "from mlxtend.frequent_patterns import apriori\n",
    "from mlxtend.frequent_patterns import association_rules"
   ]
  },
  {
   "cell_type": "code",
   "execution_count": 230,
   "metadata": {},
   "outputs": [
    {
     "name": "stdout",
     "output_type": "stream",
     "text": [
      "          education  region  hhsz  age  income  child  race  connection  \\\n",
      "userid                                                                    \n",
      "14840503         99       4     5    6       2      1     1           1   \n",
      "12890751          4       2     2    8       4      1     1           1   \n",
      "13129562          4       2     4    8       5      1     1           1   \n",
      "12910664         99       3     4    4       2      1     1           1   \n",
      "13601071         99       3     3    7       4      0     1           1   \n",
      "...             ...     ...   ...  ...     ...    ...   ...         ...   \n",
      "14606550         99       3     2    3       3      0     1           1   \n",
      "14590791         99       2     3    7       7      1     1           1   \n",
      "14917811          1       4     2    3       2      0     1           0   \n",
      "14656919         99       4     2   11       7      0     1           1   \n",
      "14103254         99       3     2    7       7      0     1           1   \n",
      "\n",
      "          country  zipcode   money                site1         site2  \\\n",
      "userid                                                                  \n",
      "14840503        0    94954  657.93  victoriassecret.com    llbean.com   \n",
      "12890751        0    46038  178.80         landsend.com       gap.com   \n",
      "13129562        0    64504  483.44          oldnavy.com  jcpenney.com   \n",
      "12910664        0    31554  148.85  victoriassecret.com        ae.com   \n",
      "13601071        0    40033  801.40  victoriassecret.com   oldnavy.com   \n",
      "...           ...      ...     ...                  ...           ...   \n",
      "14606550        0    37923   84.89         jcpenney.com    llbean.com   \n",
      "14590791        0    43351  200.88  victoriassecret.com  jcpenney.com   \n",
      "14917811        0    99338  161.88  victoriassecret.com  jcpenney.com   \n",
      "14656919        0    94114  335.00          oldnavy.com    llbean.com   \n",
      "14103254        0    77437  976.10  victoriassecret.com   oldnavy.com   \n",
      "\n",
      "                 site3      site4 site5  \n",
      "userid                                   \n",
      "14840503           NaN        NaN   NaN  \n",
      "12890751           NaN        NaN   NaN  \n",
      "13129562     kohls.com        NaN   NaN  \n",
      "12910664           NaN        NaN   NaN  \n",
      "13601071  jcpenney.com        NaN   NaN  \n",
      "...                ...        ...   ...  \n",
      "14606550           NaN        NaN   NaN  \n",
      "14590791           NaN        NaN   NaN  \n",
      "14917811           NaN        NaN   NaN  \n",
      "14656919           NaN        NaN   NaN  \n",
      "14103254  jcpenney.com  kohls.com   NaN  \n",
      "\n",
      "[2186 rows x 16 columns]\n"
     ]
    }
   ],
   "source": [
    "df = pd.read_excel(\"Project1_Data.xlsx\")\n",
    "df.set_index('userid', inplace=True)\n",
    "print(df)\n",
    "df.drop(['education', 'region', 'hhsz', 'age', 'income', 'child', 'race', 'connection', 'country', 'zipcode', 'money'], axis=1, inplace=True)\n"
   ]
  },
  {
   "cell_type": "code",
   "execution_count": 181,
   "metadata": {},
   "outputs": [
    {
     "name": "stdout",
     "output_type": "stream",
     "text": [
      "          ae.com  blair.com  gap.com  jcpenney.com  kohls.com  landsend.com  \\\n",
      "userid                                                                        \n",
      "14840503       0          0        0             0          0             0   \n",
      "12890751       0          0        1             0          0             1   \n",
      "13129562       0          0        0             1          1             0   \n",
      "12910664       1          0        0             0          0             0   \n",
      "13601071       0          0        0             1          0             0   \n",
      "...          ...        ...      ...           ...        ...           ...   \n",
      "14606550       0          0        0             1          0             0   \n",
      "14590791       0          0        0             1          0             0   \n",
      "14917811       0          0        0             1          0             0   \n",
      "14656919       0          0        0             0          0             0   \n",
      "14103254       0          0        0             1          1             0   \n",
      "\n",
      "          llbean.com  oldnavy.com  victoriassecret.com  womanwithin.com  \n",
      "userid                                                                   \n",
      "14840503           1            0                    1                0  \n",
      "12890751           0            0                    0                0  \n",
      "13129562           0            1                    0                0  \n",
      "12910664           0            0                    1                0  \n",
      "13601071           0            1                    1                0  \n",
      "...              ...          ...                  ...              ...  \n",
      "14606550           1            0                    0                0  \n",
      "14590791           0            0                    1                0  \n",
      "14917811           0            0                    1                0  \n",
      "14656919           1            1                    0                0  \n",
      "14103254           0            1                    1                0  \n",
      "\n",
      "[2186 rows x 10 columns]\n"
     ]
    }
   ],
   "source": [
    "df['user_sites'] = df.apply(lambda x: ', '.join(x.dropna()), axis=1)\n",
    "df1 = df['user_sites'].str.get_dummies(', ')\n",
    "print(df1)"
   ]
  },
  {
   "cell_type": "markdown",
   "metadata": {},
   "source": [
    "Support 8% and Confidence 25%"
   ]
  },
  {
   "cell_type": "code",
   "execution_count": 226,
   "metadata": {},
   "outputs": [
    {
     "name": "stderr",
     "output_type": "stream",
     "text": [
      "/Library/Frameworks/Python.framework/Versions/3.10/lib/python3.10/site-packages/mlxtend/frequent_patterns/fpcommon.py:111: DeprecationWarning: DataFrames with non-bool types result in worse computationalperformance and their support might be discontinued in the future.Please use a DataFrame with bool type\n",
      "  warnings.warn(\n"
     ]
    }
   ],
   "source": [
    "one_hot_data = pd.get_dummies(df1)\n",
    "frequent_itemsets = apriori(one_hot_data, min_support=0.03, use_colnames=True)\n"
   ]
  },
  {
   "cell_type": "code",
   "execution_count": 227,
   "metadata": {},
   "outputs": [
    {
     "name": "stdout",
     "output_type": "stream",
     "text": [
      "                      antecedents            consequents   support  \\\n",
      "5                  (landsend.com)           (llbean.com)  0.091034   \n",
      "2                       (gap.com)          (oldnavy.com)  0.102013   \n",
      "0                        (ae.com)  (victoriassecret.com)  0.075938   \n",
      "1                     (blair.com)         (jcpenney.com)  0.042086   \n",
      "4               (womanwithin.com)         (jcpenney.com)  0.050320   \n",
      "6  (victoriassecret.com, gap.com)          (oldnavy.com)  0.031565   \n",
      "3                     (kohls.com)         (jcpenney.com)  0.077768   \n",
      "\n",
      "   confidence      lift  leverage  \n",
      "5    0.415449  1.688051  0.037105  \n",
      "2    0.525943  1.402088  0.029255  \n",
      "0    0.464986  1.232072  0.014304  \n",
      "1    0.508287  1.203809  0.007125  \n",
      "4    0.502283  1.189589  0.008020  \n",
      "6    0.442308  1.179128  0.004795  \n",
      "3    0.461957  1.094081  0.006687  \n"
     ]
    }
   ],
   "source": [
    "rules = association_rules(frequent_itemsets, metric=\"confidence\", min_threshold=0.4)\n",
    "rules.sort_values(by=['lift'], ascending= False)\n",
    "print(rules.sort_values(by=['lift'], ascending= False).drop(columns = ['antecedent support','consequent support','conviction']))\n"
   ]
  },
  {
   "cell_type": "code",
   "execution_count": 228,
   "metadata": {},
   "outputs": [
    {
     "name": "stdout",
     "output_type": "stream",
     "text": [
      "7\n"
     ]
    }
   ],
   "source": [
    "rules[[len(c) == 1 for c in rules.consequents]].sort_values(by=['lift'], ascending = False)\n",
    "print(len(rules))\n"
   ]
  }
 ],
 "metadata": {
  "kernelspec": {
   "display_name": "Python 3.10.6 64-bit",
   "language": "python",
   "name": "python3"
  },
  "language_info": {
   "codemirror_mode": {
    "name": "ipython",
    "version": 3
   },
   "file_extension": ".py",
   "mimetype": "text/x-python",
   "name": "python",
   "nbconvert_exporter": "python",
   "pygments_lexer": "ipython3",
   "version": "3.10.6"
  },
  "orig_nbformat": 4,
  "vscode": {
   "interpreter": {
    "hash": "aee8b7b246df8f9039afb4144a1f6fd8d2ca17a180786b69acc140d282b71a49"
   }
  }
 },
 "nbformat": 4,
 "nbformat_minor": 2
}
